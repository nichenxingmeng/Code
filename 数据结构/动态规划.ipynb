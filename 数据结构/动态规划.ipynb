{
 "cells": [
  {
   "cell_type": "code",
   "execution_count": null,
   "metadata": {},
   "outputs": [],
   "source": [
    "def zhaoling(coinList, change):\n",
    "    temp = change\n",
    "    if change in coinList:\n",
    "        return 1\n",
    "    for i in [c for c in coinList if c <= change]\n",
    "        num = 1 + zhaoling(coinList, change-i)\n",
    "        if num < temp:\n",
    "            temp = num\n",
    "    return temp"
   ]
  },
  {
   "cell_type": "code",
   "execution_count": 3,
   "metadata": {},
   "outputs": [
    {
     "data": {
      "text/plain": [
       "6"
      ]
     },
     "execution_count": 3,
     "metadata": {},
     "output_type": "execute_result"
    }
   ],
   "source": [
    "def zhaoling(coinList, change, results)\n",
    "    temp  = change\n",
    "    if change in coinList:\n",
    "        results[change] = 1\n",
    "        return 1\n",
    "    elif results[change] > 0:\n",
    "        return results[change]\n",
    "    else:\n",
    "        for i in [c for c in coinList if c <= change]:\n",
    "            num = 1 + zhaoling(coinList, change-i, results)\n",
    "            if num < temp:\n",
    "                temp = num\n",
    "                results[change] = temp\n",
    "    return temp"
   ]
  },
  {
   "cell_type": "code",
   "execution_count": 5,
   "metadata": {},
   "outputs": [
    {
     "data": {
      "text/plain": [
       "6"
      ]
     },
     "execution_count": 5,
     "metadata": {},
     "output_type": "execute_result"
    }
   ],
   "source": [
    "def dpMakeChange(coinValueList, change, minCoins):\n",
    "    for cents in range(change+1):\n",
    "        coinCount = cents\n",
    "        for j in [c for c in coinValueList if c <= cents]:\n",
    "            if minCoins[cents-j] + 1 < coinCount:\n",
    "                coinCount = minCoins[cents-j]+1\n",
    "        minCoins[cents] = coinCount\n",
    "    return minCoins[change]\n",
    "\n",
    "def zhaoling(coinList, change, minCoins)\n",
    "    for cents in range(change+1):\n",
    "        coinCount = cents\n",
    "        for j in [c for c in coinList if c <= change]:\n",
    "            if minCoins[cents-j] + 1 < coinCount:\n",
    "                coinCount = minCoins[cents-j] + 1\n",
    "        minCoins[cents] = coinCount\n",
    "    return minCoins[change]    "
   ]
  },
  {
   "cell_type": "code",
   "execution_count": null,
   "metadata": {},
   "outputs": [],
   "source": [
    "def dpMakeChange(coinValueList, change, minCoins, coinsUsed):\n",
    "    for cents in range(change+1):\n",
    "        coinCount = cents\n",
    "        newCoin = 1\n",
    "        for j in [c for c in coinValueList if c <= cents]:\n",
    "            if minCoins[cents-j] + 1 < coinCount:\n",
    "                coinCount = minCoins[cents-j]+1\n",
    "                newCoin = j\n",
    "        minCoins[cents] = coinCount\n",
    "        coinUsed[cents] = newCoin\n",
    "    return minCoins[change]\n",
    "\n",
    "def printCoins(coinUsed, change):\n",
    "    coin = change\n",
    "    while coin > 0:\n",
    "        thisCoin = coinUsed[coin]\n",
    "        print(thisCoin)\n",
    "        coin = coin - thisCoin\n",
    "\n",
    "def zhaoling(coinList, change, minCoins, coinUsed):\n",
    "    for cents in range(change+1):\n",
    "        coinCount = cents\n",
    "        newCoin = 1\n",
    "        for j in [c for c in coinValueList if c <= cents]:\n",
    "            if minCoins[cents-j] + 1 < coinCount:\n",
    "                coinCount = minCoins[cents-j]+1\n",
    "                newCoin = j\n",
    "        minCoins[cents] = coinCount\n",
    "        coinUsed[cents] = newCoin\n",
    "    return minCoins[change]"
   ]
  }
 ],
 "metadata": {
  "kernelspec": {
   "display_name": "Python 3",
   "language": "python",
   "name": "python3"
  },
  "language_info": {
   "codemirror_mode": {
    "name": "ipython",
    "version": 3
   },
   "file_extension": ".py",
   "mimetype": "text/x-python",
   "name": "python",
   "nbconvert_exporter": "python",
   "pygments_lexer": "ipython3",
   "version": "3.7.9"
  }
 },
 "nbformat": 4,
 "nbformat_minor": 4
}
