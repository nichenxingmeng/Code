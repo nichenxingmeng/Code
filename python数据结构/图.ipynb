{
 "cells": [
  {
   "cell_type": "code",
   "execution_count": 2,
   "metadata": {},
   "outputs": [],
   "source": [
    "class Vertex:\n",
    "    def  __init__(self, key):\n",
    "        self.id = key\n",
    "        self.connectedTo = {}\n",
    "    \n",
    "    def addNeighbor(self, nbr, weight=0):\n",
    "        self.connectedTo[nbr] = weight\n",
    "    \n",
    "    def __str__(self):\n",
    "        return str(self.id) + ' connectedTo: ' + str([x.id for x in self.connecredTo])\n",
    "    \n",
    "    def getConnections(self):\n",
    "        return self.connectedTo.keys()\n",
    "    \n",
    "    def getId(self):\n",
    "        return self.id\n",
    "    \n",
    "    def getWeight(self, nbr):\n",
    "        return self.connectedTo[nbr]\n",
    "\n",
    "class Graph:\n",
    "    def __init__(self):\n",
    "        self.vertList = {}\n",
    "        self.numVertices = 0\n",
    "        \n",
    "    def addVertex(self, key):\n",
    "        self.numVertices += 1\n",
    "        newVertex = Vertex(key)\n",
    "        self.vertList[key] = newVertex\n",
    "        return newVertex\n",
    "    \n",
    "    def getVertex(self, n):\n",
    "        if n in self.vertList:\n",
    "            return self.vertList[n]\n",
    "        else:\n",
    "            return None\n",
    "    \n",
    "    def __contains__(self, n):\n",
    "        return n in self.vertList\n",
    "    \n",
    "    def addEdge(self, f, t, cost=0):\n",
    "        if f not in self.vertList:\n",
    "            nv = self.addVertex(f)\n",
    "        if t not in self.vertList:\n",
    "            nv = self.addVertList(t)\n",
    "        self.vertList[f].addNeighbor(self.vertList[t], cost)\n",
    "        \n",
    "    def getVertices(self):\n",
    "        return self.vertList.keys()\n",
    "    \n",
    "    def __iter__(self):\n",
    "        return iter(self.vertList.values())"
   ]
  },
  {
   "cell_type": "code",
   "execution_count": 3,
   "metadata": {},
   "outputs": [],
   "source": [
    "g = Graph()\n",
    "for i in range(6):\n",
    "    g.addVertex(i)"
   ]
  },
  {
   "cell_type": "code",
   "execution_count": 4,
   "metadata": {},
   "outputs": [
    {
     "data": {
      "text/plain": [
       "{0: <__main__.Vertex at 0x13f12728e08>,\n",
       " 1: <__main__.Vertex at 0x13f12725c08>,\n",
       " 2: <__main__.Vertex at 0x13f12725c88>,\n",
       " 3: <__main__.Vertex at 0x13f126e5248>,\n",
       " 4: <__main__.Vertex at 0x13f126e5908>,\n",
       " 5: <__main__.Vertex at 0x13f126e5808>}"
      ]
     },
     "execution_count": 4,
     "metadata": {},
     "output_type": "execute_result"
    }
   ],
   "source": [
    "g.vertList"
   ]
  },
  {
   "cell_type": "code",
   "execution_count": 5,
   "metadata": {},
   "outputs": [],
   "source": [
    "g.addEdge(0, 1, 5)\n",
    "g.addEdge(0, 5, 2)\n",
    "g.addEdge(1, 2, 4)\n",
    "g.addEdge(2, 3, 9)\n",
    "g.addEdge(3, 4, 7)\n",
    "g.addEdge(3, 5, 3)\n",
    "g.addEdge(4, 0, 1)\n",
    "g.addEdge(5, 4, 8)\n",
    "g.addEdge(5, 2, 1)"
   ]
  },
  {
   "cell_type": "code",
   "execution_count": 6,
   "metadata": {},
   "outputs": [
    {
     "name": "stdout",
     "output_type": "stream",
     "text": [
      "(0, 1)\n",
      "(0, 5)\n",
      "(1, 2)\n",
      "(2, 3)\n",
      "(3, 4)\n",
      "(3, 5)\n",
      "(4, 0)\n",
      "(5, 4)\n",
      "(5, 2)\n"
     ]
    }
   ],
   "source": [
    "for v in g:\n",
    "    for w in v.getConnections():\n",
    "        print('(%s, %s)'%(v.getId(),w.getId()))"
   ]
  },
  {
   "cell_type": "code",
   "execution_count": null,
   "metadata": {},
   "outputs": [],
   "source": [
    "from pythonds.graphs import Graph\n",
    "def buildGraph(wordFile):\n",
    "    d = {}\n",
    "    g = Graph()\n",
    "    wfile = open(wordFile, 'r')\n",
    "    for line in wfile:\n",
    "        word = line[:-1]\n",
    "        for i in range(len(word)):\n",
    "            bucket = word[:i] + '_' + word[i+1:]\n",
    "            if bucket in d:\n",
    "                d[bucket].append(word)\n",
    "            else:\n",
    "                d[bucket] = [word]\n",
    "    for bucket in d.keys():\n",
    "        for word1 in d[bucket]:\n",
    "            for word2 in d[bucket]:\n",
    "                if word1 != word2:\n",
    "                    g.addEdge(word1, word2)\n",
    "    return g"
   ]
  },
  {
   "cell_type": "code",
   "execution_count": null,
   "metadata": {},
   "outputs": [],
   "source": [
    "from pythonds.graphs import Graph, Vertex\n",
    "frfom pythonds.basic import Queue\n",
    "\n",
    "def bfs(g, start):\n",
    "    start.setDistance(0)\n",
    "    start.setPred(None)\n",
    "    vertQueue = Queue()\n",
    "    vertQueue.enqueue(start)\n",
    "    while vertQueue.size() > 0:\n",
    "        currentVert = vertQueue.dequeue()\n",
    "        for nbr in currentVert.getConnections():\n",
    "            if nbr.getColor() == 'white':\n",
    "                nbr.setColor('gray')\n",
    "                nbr.setDistance(currentVert.getDistance() + 1)\n",
    "                nbr.setPred(currentVert)\n",
    "                vertQueue.enqueue(nbr)\n",
    "        currentVert.setColor('black')\n",
    "\n",
    "def traverse(y):\n",
    "    x = y\n",
    "    while x.getPred():\n",
    "        print(x.getId())\n",
    "        x = x.getPred()\n",
    "    print(x.getId())\n",
    "\n",
    "traverse(g.getVertex('sage'))"
   ]
  },
  {
   "cell_type": "code",
   "execution_count": null,
   "metadata": {},
   "outputs": [],
   "source": [
    "from pythonds.graphs import Graph\n",
    "def kightGraph(bdSize):\n",
    "    ktGraph = Graph()\n",
    "    for row in range(bdSize):\n",
    "        for col in range(bdSize):\n",
    "            nodeId = posToNodeId(row, col, bdSize) \n",
    "            newPositions = genLegalMoves(row, col, bdSize)\n",
    "            for e in newPositions:\n",
    "                nid = posToNodeId(e[0], e[1], bdSize)\n",
    "                ktGraph.addEdge(noedId, nid)\n",
    "\n",
    "def posToNodeId(row, column, board_size):\n",
    "    return (row * board_size) + column\n",
    "\n",
    "def genLegalMoves(x, y, bdSize):\n",
    "    newMoves = []\n",
    "    moveOffsets = [(-1,-2),(-1,2),(-2,-1),(-2,1),(1,-2),(1,2),(2,-1),(2,1)]\n",
    "    for i in moveOffsets:\n",
    "        newX = x + i[0]\n",
    "        newY = y + i[1]\n",
    "        if legalCoord(newX, bdSize) and legalCoord(newY, bdSize):\n",
    "            newMoves.append((newX, newY))\n",
    "\n",
    "def legalCoord(x, bdSize):\n",
    "    if x >= 0 and x < bdSize:\n",
    "        return True\n",
    "    else:\n",
    "        return False"
   ]
  },
  {
   "cell_type": "code",
   "execution_count": null,
   "metadata": {},
   "outputs": [],
   "source": [
    "from pythonds.graphs import Graph, Vertex\n",
    "def knightTour(n, path, u, limit):\n",
    "    u.setColor('gray')\n",
    "    path.append(u)\n",
    "    if n < limit:\n",
    "        nbrList = list(u.getConnections())\n",
    "        i = 0\n",
    "        done = False\n",
    "        while i < len(nbrList) and not done:\n",
    "            if nbrList[i].getColor() == 'white':\n",
    "                done = knightTour(n+1, path, nbrList[i], limit)\n",
    "            i += 1\n",
    "        if not done:\n",
    "            path.pop()\n",
    "            u.setColor('white')\n",
    "    else:\n",
    "        done = True\n",
    "    return done\n",
    "\n",
    "def orderByAvail(n):\n",
    "    resList = []\n",
    "    for v in n.getConnections():\n",
    "        if v.getColor() == 'white':\n",
    "            c = 0\n",
    "            for w in v.getConnections():\n",
    "                if w.getColor() == 'white':\n",
    "                    c += 1\n",
    "            resList.append((c, v))\n",
    "    resList.sort(key = lambda x: x[0])\n",
    "    return [y[1] for y in resList]"
   ]
  },
  {
   "cell_type": "code",
   "execution_count": null,
   "metadata": {},
   "outputs": [],
   "source": [
    "from pythonds.graphs import Graph\n",
    "class DFSGraph(Graph):\n",
    "    def __init__(self):\n",
    "        super().__init__()\n",
    "        self.time = 0\n",
    "    \n",
    "    def dfs(self):\n",
    "        for aVertex in self:\n",
    "            aVertex.setColor('white')\n",
    "            aVertex.setPred(-1)\n",
    "        for aVertex in self:\n",
    "            if aVertex.getColor() == 'white':\n",
    "                self.dfsvisit(aVertex)\n",
    "    \n",
    "    def dfsvisit(self, startVertex):\n",
    "        startVertex.setColor('gray')\n",
    "        self.time += 1\n",
    "        startVertex.setDiscovery(self.time)\n",
    "        for nextVertex in startVertex.getConnections():\n",
    "            if nextVertex.getColor() == 'white':\n",
    "                nextVertex.setPred(startVertex)\n",
    "                self.dfsvisit(nextVertex)\n",
    "        startVertex.setColor('black')\n",
    "        self.time += 1\n",
    "        startVertex.setFinish(self.time)"
   ]
  },
  {
   "cell_type": "code",
   "execution_count": null,
   "metadata": {},
   "outputs": [],
   "source": [
    "from pythonds.graphs import PriorityQueue, Graph, Vertex\n",
    "def dijkstra(aGraph, start):\n",
    "    pq = PriorityQueue()\n",
    "    start.setDistance(0)\n",
    "    pq.buildHeap([(v.getDistance(), v) for v in aGraph])\n",
    "    while not pq.isEmpty():\n",
    "        currentVert = pq.delMin()\n",
    "        for nextVert in currentVert.getConnections():\n",
    "            newDist = currentVert.getDistance() + currentVert.getWeighr(nextVert)\n",
    "        if newDist < nextVert.getDistance():\n",
    "            nextVert.setDistance(newDist)\n",
    "            nextVert.setPred(currentVert)\n",
    "            pd.decreaseKey(nextVert, newDist)"
   ]
  }
 ],
 "metadata": {
  "kernelspec": {
   "display_name": "Python 3",
   "language": "python",
   "name": "python3"
  },
  "language_info": {
   "codemirror_mode": {
    "name": "ipython",
    "version": 3
   },
   "file_extension": ".py",
   "mimetype": "text/x-python",
   "name": "python",
   "nbconvert_exporter": "python",
   "pygments_lexer": "ipython3",
   "version": "3.7.9"
  }
 },
 "nbformat": 4,
 "nbformat_minor": 4
}
